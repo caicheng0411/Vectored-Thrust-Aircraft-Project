{
 "cells": [
  {
   "cell_type": "code",
   "execution_count": 2,
   "metadata": {},
   "outputs": [],
   "source": [
    "import numpy as np\n",
    "import matplotlib.pyplot as plt \n",
    "import control as ct\n",
    "np.set_printoptions(precision= 5, suppress=True)\n",
    "from prettytable import PrettyTable\n",
    "from scipy.linalg import eig, expm\n"
   ]
  },
  {
   "cell_type": "code",
   "execution_count": 3,
   "metadata": {},
   "outputs": [],
   "source": [
    "m = 4       # mass of aircraft\n",
    "J = 0.0475  # inertia \n",
    "r = 0.25    # distance to center of force\n",
    "g = 9.8     # gravitational constant\n",
    "c = 0.05    # damping factor"
   ]
  },
  {
   "cell_type": "code",
   "execution_count": 4,
   "metadata": {},
   "outputs": [
    {
     "name": "stdout",
     "output_type": "stream",
     "text": [
      "A=\n",
      " [[ 0.      0.      0.      1.      0.      0.    ]\n",
      " [ 0.      0.      0.      0.      1.      0.    ]\n",
      " [ 0.      0.      0.      0.      0.      1.    ]\n",
      " [ 0.      0.     -9.8    -0.0125  0.      0.    ]\n",
      " [ 0.      0.      0.      0.     -0.0125  0.    ]\n",
      " [ 0.      0.      0.      0.      0.      0.    ]] \n",
      "B=\n",
      " [[ 0.       0.     ]\n",
      " [ 0.       0.     ]\n",
      " [ 0.       0.     ]\n",
      " [ 0.25    -0.     ]\n",
      " [ 0.       0.25   ]\n",
      " [ 5.26316  0.     ]] \n",
      "C=\n",
      " [[1 0 0 0 0 0]\n",
      " [0 1 0 0 0 0]] \n",
      "D=\n",
      " [[0 0]\n",
      " [0 0]]\n"
     ]
    }
   ],
   "source": [
    "# Equilibrium point of interest of the state space dynamics\n",
    "xe = [0, 0, 0, 0, 0, 0]  \n",
    "ue = [0, m * g] \n",
    "\n",
    "# State space can be represented as following \n",
    "A = np.array([[0, 0, 0, 1, 0, 0],\n",
    "              [0, 0, 0, 0, 1, 0],\n",
    "              [0, 0, 0, 0, 0, 1],\n",
    "              [0, 0, (-ue[0]*np.sin(xe[2]) - ue[1]*np.cos(xe[2]))/m, -c/m, 0, 0],\n",
    "              [0, 0, (ue[0]*np.cos(xe[2]) - ue[1]*np.sin(xe[2]))/m, 0, -c/m, 0],\n",
    "              [0, 0, 0, 0, 0, 0]])\n",
    "B = np.array([[0, 0], [0, 0], [0, 0],\n",
    "              [np.cos(xe[2])/m, -np.sin(xe[2])/m],\n",
    "              [np.sin(xe[2])/m, np.cos(xe[2])/m],\n",
    "              [r/J, 0]])\n",
    "             \n",
    "C = np.array([[1, 0, 0, 0, 0, 0], [0, 1, 0, 0, 0, 0]])\n",
    "D = np.array([[0, 0], [0, 0]])\n",
    "print(\"A=\\n\", A, \"\\nB=\\n\", B, \"\\nC=\\n\", C, \"\\nD=\\n\", D)"
   ]
  },
  {
   "cell_type": "code",
   "execution_count": 5,
   "metadata": {},
   "outputs": [
    {
     "name": "stderr",
     "output_type": "stream",
     "text": [
      "/Library/Frameworks/Python.framework/Versions/3.12/lib/python3.12/site-packages/control/pzmap.py:93: FutureWarning: 'Plot' keyword is deprecated in pzmap; use 'plot'\n",
      "  warnings.warn(\"'Plot' keyword is deprecated in pzmap; use 'plot'\",\n"
     ]
    },
    {
     "data": {
      "image/png": "[encoded data removed]",
      "text/plain": [
       "<Figure size 640x480 with 1 Axes>"
      ]
     },
     "metadata": {},
     "output_type": "display_data"
    },
    {
     "name": "stdout",
     "output_type": "stream",
     "text": [
      "[ 0.    +0.j -0.0125+0.j  0.    +0.j  0.    +0.j -0.0125+0.j  0.    +0.j]\n"
     ]
    }
   ],
   "source": [
    "# Pole-zero Map of Original system without LQR controller \n",
    "sys = ct.ss(A, B, C, D)\n",
    "poles, zeros = ct.pzmap(sys, Plot=True)\n",
    "plt.title('Pole-Zero Map of Original System')\n",
    "plt.show()\n",
    "print(poles)"
   ]
  },
  {
   "cell_type": "code",
   "execution_count": 6,
   "metadata": {},
   "outputs": [
    {
     "name": "stdout",
     "output_type": "stream",
     "text": [
      "P\n",
      "\n",
      "Eigenvalues of P: [-4.59551e+14 -7.55878e+79 -2.98266e+49 -9.80375e+17 -2.94159e+18\n",
      " -2.49953e-02]\n",
      "\n",
      "\n",
      "Matrix P:\n",
      "+--------------+--------------+--------------+--------------+--------------+--------------+\n",
      "|   Column 1   |   Column 2   |   Column 3   |   Column 4   |   Column 5   |   Column 6   |\n",
      "+--------------+--------------+--------------+--------------+--------------+--------------+\n",
      "| -4.59551e+14 | 0.00000e+00  | -1.65571e+32 | -3.67641e+16 | 0.00000e+00  | 7.60882e+46  |\n",
      "| 0.00000e+00  | -4.59551e+14 | 0.00000e+00  | 0.00000e+00  | -3.67641e+16 | 0.00000e+00  |\n",
      "| -1.65571e+32 | 0.00000e+00  | -1.19306e+50 | -1.32457e+34 | 0.00000e+00  | 8.22410e+64  |\n",
      "| -3.67641e+16 | 0.00000e+00  | -1.32457e+34 | -2.94113e+18 | 0.00000e+00  | 6.08705e+48  |\n",
      "| 0.00000e+00  | -3.67641e+16 | 0.00000e+00  | 0.00000e+00  | -2.94113e+18 | 0.00000e+00  |\n",
      "| 7.60882e+46  | 0.00000e+00  | 8.22410e+64  | 6.08705e+48  | 0.00000e+00  | -7.55878e+79 |\n",
      "+--------------+--------------+--------------+--------------+--------------+--------------+\n"
     ]
    },
    {
     "name": "stderr",
     "output_type": "stream",
     "text": [
      "/Library/Frameworks/Python.framework/Versions/3.12/lib/python3.12/site-packages/control/mateqn.py:168: RuntimeWarning: Input \"a\" has an eigenvalue pair whose sum is very close to or exactly zero. The solution is obtained via perturbing the coefficients.\n",
      "  return sp.linalg.solve_continuous_lyapunov(A, -Q)\n"
     ]
    }
   ],
   "source": [
    "Q = np.identity(6) # define positive definite identity matric \n",
    "P = ct.lyap(A.transpose(),Q)  # apply Lyapunov stability on the linearized system to find solution \n",
    "print(\"P\\n\") \n",
    "w = np.linalg.eigvals(P) # Find the eigenvalues of solution P\n",
    "print(\"Eigenvalues of P:\", w)\n",
    "\n",
    "# Convert the matrix P to a pretty table\n",
    "table = PrettyTable()\n",
    "table.field_names = [f\"Column {i+1}\" for i in range(P.shape[1])]\n",
    "\n",
    "for row in P:\n",
    "    table.add_row([\"{:.5e}\".format(element) for element in row])\n",
    "\n",
    "# Print the pretty table\n",
    "print(\"\\n\\nMatrix P:\")\n",
    "print(table)"
   ]
  },
  {
   "cell_type": "code",
   "execution_count": 7,
   "metadata": {},
   "outputs": [
    {
     "name": "stdout",
     "output_type": "stream",
     "text": [
      "Transfer Function for Output 1:\n",
      "\n",
      "3.286e-15 s^5 + 0.25 s^4 + 0.003125 s^3 - 51.58 s^2 - 0.6447 s\n",
      "--------------------------------------------------------------\n",
      "               s^6 + 0.025 s^5 + 0.0001563 s^4\n",
      "\n",
      "\n",
      "Transfer Function for Output 2:\n",
      "\n",
      "-1.735e-17 s^5 + 0.25 s^4 + 0.003125 s^3\n",
      "----------------------------------------\n",
      "    s^6 + 0.025 s^5 + 0.0001563 s^4\n",
      "\n",
      "Zeros of Output 1 TF:\n",
      "[-7.60904e+13+0.j  1.43637e+01+0.j -1.43637e+01+0.j -1.25000e-02+0.j\n",
      "  0.00000e+00+0.j]\n",
      "\n",
      "Poles of Output 1 TF:\n",
      "[-0.0125+0.j -0.0125-0.j  0.    +0.j  0.    +0.j  0.    +0.j  0.    +0.j]\n",
      "\n",
      "Zeros of Output 2 TF:\n",
      "[ 1.44115e+16+0.j -1.25000e-02+0.j  0.00000e+00+0.j  0.00000e+00+0.j\n",
      "  0.00000e+00+0.j]\n",
      "\n",
      "Poles of Output 2 TF:\n",
      "[-0.0125+0.j -0.0125-0.j  0.    +0.j  0.    +0.j  0.    +0.j  0.    +0.j]\n"
     ]
    },
    {
     "name": "stderr",
     "output_type": "stream",
     "text": [
      "/Library/Frameworks/Python.framework/Versions/3.12/lib/python3.12/site-packages/scipy/signal/_filter_design.py:1101: BadCoefficients: Badly conditioned filter coefficients (numerator): the results may be meaningless\n",
      "  b, a = normalize(b, a)\n"
     ]
    }
   ],
   "source": [
    "tf_sys1 = ct.ss2tf(sys[0, 0])  # Transfer function for the first output\n",
    "tf_sys2 = ct.ss2tf(sys[1, 1])  # Transfer function for the second output\n",
    "\n",
    "zeros_tf1 = ct.zeros(tf_sys1)\n",
    "poles_tf1 = ct.poles(tf_sys1)\n",
    "\n",
    "zeros_tf2 = ct.zeros(tf_sys2)\n",
    "poles_tf2 = ct.poles(tf_sys2)\n",
    "\n",
    "# Display the transfer functions\n",
    "print(\"Transfer Function for Output 1:\")\n",
    "print(tf_sys1)\n",
    "print(\"\\nTransfer Function for Output 2:\")\n",
    "print(tf_sys2)\n",
    "\n",
    "print(\"Zeros of Output 1 TF:\")\n",
    "print(zeros_tf1)\n",
    "print(\"\\nPoles of Output 1 TF:\")\n",
    "print(poles_tf1)\n",
    "\n",
    "print(\"\\nZeros of Output 2 TF:\")\n",
    "print(zeros_tf2)\n",
    "print(\"\\nPoles of Output 2 TF:\")\n",
    "print(poles_tf2)"
   ]
  },
  {
   "cell_type": "code",
   "execution_count": 8,
   "metadata": {},
   "outputs": [
    {
     "name": "stdout",
     "output_type": "stream",
     "text": [
      "Transformation successful.\n",
      "Transformation matrix T:\n",
      "[[ 1.      -0.99992  0.       1.       0.      -1.     ]\n",
      " [ 0.       0.       1.       0.      -0.99992  0.     ]\n",
      " [ 0.       0.       0.       0.       0.      -0.     ]\n",
      " [ 0.       0.0125   0.      -0.       0.       0.     ]\n",
      " [ 0.       0.       0.       0.       0.0125   0.     ]\n",
      " [ 0.       0.       0.       0.       0.       0.     ]]\n",
      "Diagonal matrix A_hat:\n",
      "[[ 0.      0.      0.      0.      0.      0.    ]\n",
      " [ 0.     -0.0125  0.      0.      0.      0.    ]\n",
      " [ 0.      0.      0.      0.      0.      0.    ]\n",
      " [ 0.      0.      0.      0.      0.      0.    ]\n",
      " [ 0.      0.      0.      0.     -0.0125  0.    ]\n",
      " [ 0.      0.      0.      0.      0.      0.    ]]\n"
     ]
    }
   ],
   "source": [
    "# Find the eigenvalues and eigenvectors\n",
    "eigenvalues, eigenvectors = np.linalg.eig(A)\n",
    "\n",
    "# Form the transformation matrix T (eigenvectors) and the diagonal matrix H (eigenvalues)\n",
    "T = eigenvectors\n",
    "H = np.diag(eigenvalues)\n",
    "A_hat = H\n",
    "# Check if the transformation is valid\n",
    "if np.linalg.norm(A @ T - T @ H) < 1e-10:\n",
    "    print('Transformation successful.')\n",
    "\n",
    "    # Display the transformation matrix T and the diagonal matrix H\n",
    "    print('Transformation matrix T:')\n",
    "    print(T)\n",
    "\n",
    "    print('Diagonal matrix A_hat:')\n",
    "    print(A_hat)\n",
    "else:\n",
    "    print('Error in transformation.')"
   ]
  },
  {
   "cell_type": "code",
   "execution_count": 9,
   "metadata": {},
   "outputs": [
    {
     "name": "stdout",
     "output_type": "stream",
     "text": [
      "Matrix B_hat:\n",
      "[[ 6.66667 -0.     ]\n",
      " [20.00156 -0.     ]\n",
      " [ 0.      20.     ]\n",
      " [ 6.66667 -0.     ]\n",
      " [ 0.      20.00156]\n",
      " [-6.66667  0.     ]]\n",
      "\n",
      "Matrix C_hat:\n",
      "[[ 1.      -0.99992  0.       1.       0.      -1.     ]\n",
      " [ 0.       0.       1.       0.      -0.99992  0.     ]]\n"
     ]
    }
   ],
   "source": [
    "# Calculate the pseudo-inverse of T\n",
    "T_pseudo_inv = np.linalg.pinv(T)\n",
    "\n",
    "# Find N\n",
    "B_hat = np.dot(T_pseudo_inv, B)\n",
    "\n",
    "# Display the result\n",
    "print(\"Matrix B_hat:\")\n",
    "print(B_hat)\n",
    "\n",
    "C_hat = np.dot(C, T)\n",
    "print(\"\\nMatrix C_hat:\")\n",
    "print(C_hat)\n"
   ]
  },
  {
   "cell_type": "code",
   "execution_count": 10,
   "metadata": {},
   "outputs": [
    {
     "name": "stdout",
     "output_type": "stream",
     "text": [
      "New Sate Space after Similarity Transformed System \n",
      "<LinearIOSystem>: sys[7]\n",
      "Inputs (2): ['u[0]', 'u[1]']\n",
      "Outputs (2): ['y[0]', 'y[1]']\n",
      "States (6): ['x[0]', 'x[1]', 'x[2]', 'x[3]', 'x[4]', 'x[5]']\n",
      "\n",
      "A = [[ 0.      0.      0.      0.      0.      0.    ]\n",
      "     [ 0.     -0.0125  0.      0.      0.      0.    ]\n",
      "     [ 0.      0.      0.      0.      0.      0.    ]\n",
      "     [ 0.      0.      0.      0.      0.      0.    ]\n",
      "     [ 0.      0.      0.      0.     -0.0125  0.    ]\n",
      "     [ 0.      0.      0.      0.      0.      0.    ]]\n",
      "\n",
      "B = [[ 6.66667 -0.     ]\n",
      "     [20.00156 -0.     ]\n",
      "     [ 0.      20.     ]\n",
      "     [ 6.66667 -0.     ]\n",
      "     [ 0.      20.00156]\n",
      "     [-6.66667  0.     ]]\n",
      "\n",
      "C = [[ 1.      -0.99992  0.       1.       0.      -1.     ]\n",
      "     [ 0.       0.       1.       0.      -0.99992  0.     ]]\n",
      "\n",
      "D = [[0. 0.]\n",
      "     [0. 0.]]\n",
      "\n"
     ]
    }
   ],
   "source": [
    "new_state_sys = ct.ss(A_hat, B_hat, C_hat, D)\n",
    "print(\"New Sate Space after Similarity Transformed System \")\n",
    "print(new_state_sys)\n"
   ]
  },
  {
   "cell_type": "code",
   "execution_count": 11,
   "metadata": {},
   "outputs": [
    {
     "name": "stdout",
     "output_type": "stream",
     "text": [
      "Transfer Function for Output 1:\n",
      "\n",
      "5.277e-15 s^5 + 0.25 s^4 + 0.003125 s^3 + 1.451e-18 s^2 + 5.375e-38 s\n",
      "---------------------------------------------------------------------\n",
      "                   s^6 + 0.025 s^5 + 0.0001563 s^4\n",
      "\n",
      "\n",
      "Transfer Function for Output 2:\n",
      "\n",
      "-4.278e-15 s^5 + 0.25 s^4 + 0.003125 s^3\n",
      "----------------------------------------\n",
      "    s^6 + 0.025 s^5 + 0.0001563 s^4\n",
      "\n"
     ]
    }
   ],
   "source": [
    "tf_new_sys1 = ct.ss2tf(new_state_sys[0, 0])  # Transfer function for the first output\n",
    "tf_new_sys2 = ct.ss2tf(new_state_sys[1, 1])  # Transfer function for the second output\n",
    "# Display the transfer functions\n",
    "\n",
    "print(\"Transfer Function for Output 1:\")\n",
    "print(tf_new_sys1)\n",
    "print(\"\\nTransfer Function for Output 2:\")\n",
    "print(tf_new_sys2)"
   ]
  },
  {
   "cell_type": "code",
   "execution_count": 12,
   "metadata": {},
   "outputs": [
    {
     "name": "stdout",
     "output_type": "stream",
     "text": [
      "State Space Matrix in Discrete Time\n",
      " Ad = \n",
      " [[ 1.       0.      -0.04898  0.09994  0.      -0.00163]\n",
      " [ 0.       1.       0.       0.       0.09994  0.     ]\n",
      " [ 0.       0.       1.       0.       0.       0.1    ]\n",
      " [ 0.       0.      -0.97939  0.99875  0.      -0.04898]\n",
      " [ 0.       0.       0.       0.       0.99875  0.     ]\n",
      " [ 0.       0.       0.       0.       0.       1.     ]]\n",
      "\n",
      "State Space Matrix in Discrete Time\n",
      " Bd = \n",
      " [[0.00103 0.     ]\n",
      " [0.      0.00125]\n",
      " [0.02632 0.     ]\n",
      " [0.01639 0.     ]\n",
      " [0.      0.02498]\n",
      " [0.52632 0.     ]]\n",
      "\n",
      "State Space Matrix in Discrete Time\n",
      " Cd = \n",
      " [[1. 0. 0. 0. 0. 0.]\n",
      " [0. 1. 0. 0. 0. 0.]]\n",
      "\n",
      "State Space Matrix in Discrete Time\n",
      " Dd = \n",
      " [[0. 0.]\n",
      " [0. 0.]]\n"
     ]
    }
   ],
   "source": [
    "T = 0.1  # samping time \n",
    "Gd = ct.c2d(sys, T, 'zoh')   # zeros order hold equivalent\n",
    "# Discretize using ZOH\n",
    "Ad = expm(A * T)\n",
    "\n",
    "# Display the results\n",
    "print(\"State Space Matrix in Discrete Time\\n Ad = \\n\", Gd.A )\n",
    "print(\"\\nState Space Matrix in Discrete Time\\n Bd = \\n\", Gd.B )\n",
    "print(\"\\nState Space Matrix in Discrete Time\\n Cd = \\n\", Gd.C )\n",
    "print(\"\\nState Space Matrix in Discrete Time\\n Dd = \\n\", Gd.D )"
   ]
  },
  {
   "cell_type": "code",
   "execution_count": 13,
   "metadata": {},
   "outputs": [
    {
     "name": "stdout",
     "output_type": "stream",
     "text": [
      "State-feedback gain matrix K:\n",
      " [[-0.31636 -0.20151  7.78605 -0.77103 -0.09803  1.3851 ]\n",
      " [-4.68839 17.85022  9.48094 -1.99015 23.51109  1.39665]]\n",
      "<LinearIOSystem>: sys[13]\n",
      "Inputs (2): ['u[0]', 'u[1]']\n",
      "Outputs (2): ['y[0]', 'y[1]']\n",
      "States (6): ['x[0]', 'x[1]', 'x[2]', 'x[3]', 'x[4]', 'x[5]']\n",
      "\n",
      "A = [[  0.        0.        0.        1.        0.        0.     ]\n",
      "     [  0.        0.        0.        0.        1.        0.     ]\n",
      "     [  0.        0.        0.        0.        0.        1.     ]\n",
      "     [  0.07909   0.05038 -11.74651   0.18026   0.02451  -0.34627]\n",
      "     [  1.1721   -4.46255  -2.37023   0.49754  -5.89027  -0.34916]\n",
      "     [  1.66505   1.06059 -40.97921   4.05804   0.51597  -7.28998]]\n",
      "\n",
      "B = [[ 0.       0.     ]\n",
      "     [ 0.       0.     ]\n",
      "     [ 0.       0.     ]\n",
      "     [ 0.25    -0.     ]\n",
      "     [ 0.       0.25   ]\n",
      "     [ 5.26316  0.     ]]\n",
      "\n",
      "C = [[1. 0. 0. 0. 0. 0.]\n",
      "     [0. 1. 0. 0. 0. 0.]]\n",
      "\n",
      "D = [[0. 0.]\n",
      "     [0. 0.]]\n",
      "\n"
     ]
    },
    {
     "name": "stderr",
     "output_type": "stream",
     "text": [
      "/Library/Frameworks/Python.framework/Versions/3.12/lib/python3.12/site-packages/numpy/linalg/linalg.py:2180: RuntimeWarning: divide by zero encountered in det\n",
      "  r = _umath_linalg.det(a, signature=signature)\n",
      "/Library/Frameworks/Python.framework/Versions/3.12/lib/python3.12/site-packages/numpy/linalg/linalg.py:2180: RuntimeWarning: invalid value encountered in det\n",
      "  r = _umath_linalg.det(a, signature=signature)\n"
     ]
    }
   ],
   "source": [
    "# state feedback control\n",
    "# Desired eigenvalues\n",
    "desired_eigenvalues = [-0.5 + 0.5j, -0.5 - 0.5j, -1, -3 + 5j, -3 - 5j, -5] \n",
    "\n",
    "\n",
    "# Calculate state-feedback gain matrix K using ct.place\n",
    "K = ct.place(A, B, desired_eigenvalues)\n",
    "\n",
    "# Display the results\n",
    "print(\"State-feedback gain matrix K:\\n\", K)\n",
    "\n",
    "# Create the closed-loop system\n",
    "closed_loop_system = ct.ss(A - B @ K, B, C, D)\n",
    "print(closed_loop_system)\n",
    "\n"
   ]
  },
  {
   "cell_type": "code",
   "execution_count": 14,
   "metadata": {},
   "outputs": [
    {
     "name": "stdout",
     "output_type": "stream",
     "text": [
      "A = [[  0.        0.        0.        1.        0.        0.     ]\n",
      "     [  0.        0.        0.        0.        1.        0.     ]\n",
      "     [  0.        0.        0.        0.        0.        1.     ]\n",
      "     [  0.07909   0.05038 -11.74651   0.18026   0.02451  -0.34627]\n",
      "     [  1.1721   -4.46255  -2.37023   0.49754  -5.89027  -0.34916]\n",
      "     [  1.66505   1.06059 -40.97921   4.05804   0.51597  -7.28998]]\n",
      "\n",
      "B = [[0.     ]\n",
      "     [0.     ]\n",
      "     [0.     ]\n",
      "     [0.25   ]\n",
      "     [0.     ]\n",
      "     [5.26316]]\n",
      "\n",
      "C = [[1. 0. 0. 0. 0. 0.]]\n",
      "\n",
      "D = [[0.]]\n",
      "\n",
      "A = [[  0.        0.        0.        1.        0.        0.     ]\n",
      "     [  0.        0.        0.        0.        1.        0.     ]\n",
      "     [  0.        0.        0.        0.        0.        1.     ]\n",
      "     [  0.07909   0.05038 -11.74651   0.18026   0.02451  -0.34627]\n",
      "     [  1.1721   -4.46255  -2.37023   0.49754  -5.89027  -0.34916]\n",
      "     [  1.66505   1.06059 -40.97921   4.05804   0.51597  -7.28998]]\n",
      "\n",
      "B = [[ 0.  ]\n",
      "     [ 0.  ]\n",
      "     [ 0.  ]\n",
      "     [-0.  ]\n",
      "     [ 0.25]\n",
      "     [ 0.  ]]\n",
      "\n",
      "C = [[0. 1. 0. 0. 0. 0.]]\n",
      "\n",
      "D = [[0.]]\n",
      "\n"
     ]
    }
   ],
   "source": [
    "print(closed_loop_system[0,0])\n",
    "print(closed_loop_system[1,1])"
   ]
  },
  {
   "cell_type": "code",
   "execution_count": 15,
   "metadata": {},
   "outputs": [
    {
     "data": {
      "image/png": "[encoded data removed]",
      "text/plain": [
       "<Figure size 500x400 with 1 Axes>"
      ]
     },
     "metadata": {},
     "output_type": "display_data"
    }
   ],
   "source": [
    "# Step response of x output of CL system \n",
    "T1, x_out = ct. step_response(closed_loop_system[0,0])\n",
    "\n",
    "# Step response of y output of CL system \n",
    "T2, y_out = ct. step_response(closed_loop_system[1,1])\n",
    "\n",
    "# Define the time span \n",
    "t = np.linspace(0, 20, 1000)\n",
    "# plot the step response \n",
    "plt.figure(figsize=(5, 4))\n",
    "plt.plot(T1, x_out, 'r', T2, y_out, 'g')\n",
    "plt.title(\"Step Response with State Feedback Controller\")\n",
    "plt.plot([0, 10], [1, 1], 'k--')\n",
    "plt.axis([0, 15, -5, 1])\n",
    "plt.ylabel('Position')\n",
    "plt.xlabel('Time')\n",
    "plt.legend(('x', 'y'), loc='lower right')\n",
    "plt.grid (True)\n",
    "plt.show()"
   ]
  },
  {
   "cell_type": "code",
   "execution_count": 16,
   "metadata": {},
   "outputs": [
    {
     "name": "stdout",
     "output_type": "stream",
     "text": [
      "[[ 7.12366  0.5336 ]\n",
      " [-1.00428  5.85134]\n",
      " [-4.03795 -0.47604]\n",
      " [40.52771  4.34555]\n",
      " [-1.41133  4.42892]\n",
      " [-1.60361 -1.02109]]\n"
     ]
    }
   ],
   "source": [
    "# Observer State Feedback Control\n",
    "L = ct.place(A.T,C.T, desired_eigenvalues).T \n",
    "print(L)\n",
    "\n"
   ]
  }
 ],
 "metadata": {
  "kernelspec": {
   "display_name": "Python 3",
   "language": "python",
   "name": "python3"
  },
  "language_info": {
   "codemirror_mode": {
    "name": "ipython",
    "version": 3
   },
   "file_extension": ".py",
   "mimetype": "text/x-python",
   "name": "python",
   "nbconvert_exporter": "python",
   "pygments_lexer": "ipython3",
   "version": "3.12.0"
  }
 },
 "nbformat": 4,
 "nbformat_minor": 2
}
